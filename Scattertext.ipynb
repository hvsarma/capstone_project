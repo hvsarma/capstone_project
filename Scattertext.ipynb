{
 "cells": [
  {
   "cell_type": "markdown",
   "metadata": {},
   "source": [
    "# Exploring Scattertext library capabilities\n",
    "\n",
    "Here's the documentation for what I'm attempting to adapt: https://github.com/JasonKessler/scattertext"
   ]
  },
  {
   "cell_type": "code",
   "execution_count": 1,
   "metadata": {
    "scrolled": true
   },
   "outputs": [],
   "source": [
    "# !pip install scattertext"
   ]
  },
  {
   "cell_type": "code",
   "execution_count": 2,
   "metadata": {
    "scrolled": true
   },
   "outputs": [],
   "source": [
    "# !pip install spacy"
   ]
  },
  {
   "cell_type": "code",
   "execution_count": 4,
   "metadata": {
    "scrolled": true
   },
   "outputs": [],
   "source": [
    "# !python -m spacy download en_core_web_sm"
   ]
  },
  {
   "cell_type": "code",
   "execution_count": 1,
   "metadata": {},
   "outputs": [],
   "source": [
    "import scattertext as st\n",
    "import pandas as pd\n",
    "import numpy as np\n",
    "# from pprint import pprint\n",
    "import spacy\n",
    "import en_core_web_sm"
   ]
  },
  {
   "cell_type": "code",
   "execution_count": 2,
   "metadata": {},
   "outputs": [],
   "source": [
    "tweet_csv_files = ['tweets_lovehate_2018.csv',\n",
    "                   'tweets_happysad_2018.csv',\n",
    "                   'tweets_music_2018.csv',\n",
    "                   'tweets_money_2018.csv',\n",
    "                   'tweets_nowords_2018.csv',\n",
    "                   'tweets_politics_2018.csv',\n",
    "                   'tweets_coding_2018.csv']"
   ]
  },
  {
   "cell_type": "code",
   "execution_count": 3,
   "metadata": {},
   "outputs": [],
   "source": [
    "query_shorthand = 'nowords'\n",
    "filename = f'tweets_{query_shorthand}_2018.csv'\n",
    "# reads in the CSV file as a DataFrame\n",
    "df = pd.read_csv(filename)\n",
    "df.timestamp = pd.to_datetime(df.timestamp, format='%Y%m%d')  \n",
    "df = df[df['sentiment'].isin(['positive','negative'])]"
   ]
  },
  {
   "cell_type": "code",
   "execution_count": 4,
   "metadata": {},
   "outputs": [
    {
     "data": {
      "text/html": [
       "<div>\n",
       "<style scoped>\n",
       "    .dataframe tbody tr th:only-of-type {\n",
       "        vertical-align: middle;\n",
       "    }\n",
       "\n",
       "    .dataframe tbody tr th {\n",
       "        vertical-align: top;\n",
       "    }\n",
       "\n",
       "    .dataframe thead th {\n",
       "        text-align: right;\n",
       "    }\n",
       "</style>\n",
       "<table border=\"1\" class=\"dataframe\">\n",
       "  <thead>\n",
       "    <tr style=\"text-align: right;\">\n",
       "      <th></th>\n",
       "      <th>timestamp</th>\n",
       "      <th>text</th>\n",
       "      <th>sentiment</th>\n",
       "      <th>polarity</th>\n",
       "      <th>subjectivity</th>\n",
       "      <th>tally</th>\n",
       "    </tr>\n",
       "  </thead>\n",
       "  <tbody>\n",
       "    <tr>\n",
       "      <th>0</th>\n",
       "      <td>2018-01-01</td>\n",
       "      <td>I am officially obsessed with black mirror</td>\n",
       "      <td>negative</td>\n",
       "      <td>-0.333333</td>\n",
       "      <td>0.716667</td>\n",
       "      <td>1</td>\n",
       "    </tr>\n",
       "    <tr>\n",
       "      <th>1</th>\n",
       "      <td>2018-01-01</td>\n",
       "      <td>Ack, that's the worst!</td>\n",
       "      <td>negative</td>\n",
       "      <td>-1.000000</td>\n",
       "      <td>1.000000</td>\n",
       "      <td>1</td>\n",
       "    </tr>\n",
       "    <tr>\n",
       "      <th>4</th>\n",
       "      <td>2018-01-01</td>\n",
       "      <td>Lol, they be wildin tf out.</td>\n",
       "      <td>positive</td>\n",
       "      <td>0.800000</td>\n",
       "      <td>0.700000</td>\n",
       "      <td>1</td>\n",
       "    </tr>\n",
       "    <tr>\n",
       "      <th>5</th>\n",
       "      <td>2018-01-01</td>\n",
       "      <td>Cold Morning</td>\n",
       "      <td>negative</td>\n",
       "      <td>-0.600000</td>\n",
       "      <td>1.000000</td>\n",
       "      <td>1</td>\n",
       "    </tr>\n",
       "    <tr>\n",
       "      <th>6</th>\n",
       "      <td>2018-01-01</td>\n",
       "      <td>Lol. Low IQ is what Obama had. How come Obama ...</td>\n",
       "      <td>positive</td>\n",
       "      <td>0.100000</td>\n",
       "      <td>0.433333</td>\n",
       "      <td>1</td>\n",
       "    </tr>\n",
       "  </tbody>\n",
       "</table>\n",
       "</div>"
      ],
      "text/plain": [
       "   timestamp                                               text sentiment  \\\n",
       "0 2018-01-01         I am officially obsessed with black mirror  negative   \n",
       "1 2018-01-01                             Ack, that's the worst!  negative   \n",
       "4 2018-01-01                        Lol, they be wildin tf out.  positive   \n",
       "5 2018-01-01                                       Cold Morning  negative   \n",
       "6 2018-01-01  Lol. Low IQ is what Obama had. How come Obama ...  positive   \n",
       "\n",
       "   polarity  subjectivity  tally  \n",
       "0 -0.333333      0.716667      1  \n",
       "1 -1.000000      1.000000      1  \n",
       "4  0.800000      0.700000      1  \n",
       "5 -0.600000      1.000000      1  \n",
       "6  0.100000      0.433333      1  "
      ]
     },
     "execution_count": 4,
     "metadata": {},
     "output_type": "execute_result"
    }
   ],
   "source": [
    "df.head()"
   ]
  },
  {
   "cell_type": "code",
   "execution_count": 5,
   "metadata": {},
   "outputs": [],
   "source": [
    "break       #### comment out this line if you want to run this block\n",
    "####  NOTE: This block takes about 1-2 hours to execute  ####\n",
    "\n",
    "# Turn the data frame into a Scattertext Corpus to begin analyzing it. \n",
    "nlp = en_core_web_sm.load()\n",
    "corpus = st.CorpusFromPandas(data_frame=df,\n",
    "                             category_col='sentiment',\n",
    "                             text_col='text',\n",
    "                             nlp=nlp).build()"
   ]
  },
  {
   "cell_type": "code",
   "execution_count": 7,
   "metadata": {},
   "outputs": [
    {
     "data": {
      "text/plain": [
       "['barometer',\n",
       " 'lmao',\n",
       " 'gon',\n",
       " 'twitter',\n",
       " 'trump',\n",
       " 'tweet',\n",
       " 'humidity',\n",
       " 'lol',\n",
       " 'liked',\n",
       " 'facebook']"
      ]
     },
     "execution_count": 7,
     "metadata": {},
     "output_type": "execute_result"
    }
   ],
   "source": [
    "# Here are the terms that differentiate the corpus from a general English corpus.\n",
    "list(corpus.get_scaled_f_scores_vs_background().index[:10])"
   ]
  },
  {
   "cell_type": "code",
   "execution_count": 8,
   "metadata": {},
   "outputs": [
    {
     "data": {
      "text/plain": [
       "['happy birthday',\n",
       " 'awesome',\n",
       " 'wonderful',\n",
       " 'beautiful',\n",
       " 'the best',\n",
       " 'to win',\n",
       " 'proud',\n",
       " 'proud of',\n",
       " 'good morning',\n",
       " 'best']"
      ]
     },
     "execution_count": 8,
     "metadata": {},
     "output_type": "execute_result"
    }
   ],
   "source": [
    "# Here are the terms that are most associated with positivity:\n",
    "\n",
    "term_freq_df = corpus.get_term_freq_df()\n",
    "term_freq_df['Positivity_Score'] = corpus.get_scaled_f_scores('positive')\n",
    "list(term_freq_df.sort_values(by='Positivity_Score', ascending=False).index[:10])"
   ]
  },
  {
   "cell_type": "code",
   "execution_count": 9,
   "metadata": {},
   "outputs": [
    {
     "data": {
      "text/plain": [
       "['falling slowly',\n",
       " 'rising slowly',\n",
       " 'horrible',\n",
       " 'disgusting',\n",
       " 'in falling',\n",
       " 'slowly',\n",
       " 'the worst',\n",
       " 'i hate',\n",
       " 'awful',\n",
       " 'evil']"
      ]
     },
     "execution_count": 9,
     "metadata": {},
     "output_type": "execute_result"
    }
   ],
   "source": [
    "# ... and here are the terms that are most associated with negativity:\n",
    "\n",
    "term_freq_df = corpus.get_term_freq_df()\n",
    "term_freq_df['Negativity_Score'] = corpus.get_scaled_f_scores('negative')\n",
    "list(term_freq_df.sort_values(by='Negativity_Score', ascending=False).index[:10])"
   ]
  },
  {
   "cell_type": "code",
   "execution_count": 31,
   "metadata": {},
   "outputs": [
    {
     "data": {
      "text/plain": [
       "32914592"
      ]
     },
     "execution_count": 31,
     "metadata": {},
     "output_type": "execute_result"
    }
   ],
   "source": [
    "# Create an HTML page for the interactive visualization\n",
    "html = st.produce_scattertext_explorer(corpus,\n",
    "    category='positive',\n",
    "    category_name='Positive',\n",
    "    not_category_name='Negative',\n",
    "    # metadata=df['speaker'],\n",
    "    minimum_term_frequency=25,               ### good value to allow page to load in <2 minutes\n",
    "    minimum_not_category_term_frequency=25,  ### good value to allow page to load in <2 minutes\n",
    "#     max_terms=5000,      ### needs to be much higher or else it's a weird graph\n",
    "    max_snippets=50,\n",
    "    show_characteristic=True,\n",
    "    width_in_pixels=1000)\n",
    "open(f\"Tweet_{query_shorthand}_Visualization.html\", 'wb').write(html.encode('utf-8'))"
   ]
  },
  {
   "cell_type": "markdown",
   "metadata": {},
   "source": [
    "### Saving the object for use in the next session"
   ]
  },
  {
   "cell_type": "code",
   "execution_count": 32,
   "metadata": {},
   "outputs": [],
   "source": [
    "break   ### comment out this line to run code\n",
    "\n",
    "# Saving the `corpus` object for later use, so i don't have to build it again\n",
    "import pickle \n",
    "pickle.dump(corpus, open(f\"scattertext_{query_shorthand}_corpus.obj\", \"wb\" ))"
   ]
  },
  {
   "cell_type": "markdown",
   "metadata": {},
   "source": [
    "### Loading the object back in once the next session has begun"
   ]
  },
  {
   "cell_type": "code",
   "execution_count": 6,
   "metadata": {},
   "outputs": [],
   "source": [
    "break   ### comment out this line to run code\n",
    "\n",
    "# when I open this notebook again, I can run this code to reload the object\n",
    "import pickle\n",
    "corpus = pickle.load(open(f'scattertext_{query_shorthand}_corpus.obj', 'rb'))"
   ]
  },
  {
   "cell_type": "code",
   "execution_count": null,
   "metadata": {},
   "outputs": [],
   "source": []
  },
  {
   "cell_type": "code",
   "execution_count": null,
   "metadata": {},
   "outputs": [],
   "source": []
  },
  {
   "cell_type": "code",
   "execution_count": null,
   "metadata": {},
   "outputs": [],
   "source": []
  }
 ],
 "metadata": {
  "kernelspec": {
   "display_name": "Python [conda env:.conda-capstone-env] *",
   "language": "python",
   "name": "conda-env-.conda-capstone-env-py"
  },
  "language_info": {
   "codemirror_mode": {
    "name": "ipython",
    "version": 3
   },
   "file_extension": ".py",
   "mimetype": "text/x-python",
   "name": "python",
   "nbconvert_exporter": "python",
   "pygments_lexer": "ipython3",
   "version": "3.6.6"
  }
 },
 "nbformat": 4,
 "nbformat_minor": 2
}
